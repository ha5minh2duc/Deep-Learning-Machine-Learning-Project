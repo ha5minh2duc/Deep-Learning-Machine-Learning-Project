{
  "nbformat": 4,
  "nbformat_minor": 0,
  "metadata": {
    "colab": {
      "name": "Nhận dạng chữ số viết tay (MNIST).ipynb",
      "provenance": []
    },
    "kernelspec": {
      "name": "python3",
      "display_name": "Python 3"
    },
    "accelerator": "GPU"
  },
  "cells": [
    {
      "cell_type": "code",
      "metadata": {
        "colab": {
          "base_uri": "https://localhost:8080/"
        },
        "id": "BOVlC3WmTmTu",
        "outputId": "9c438f88-246c-470a-c600-79666c910bef"
      },
      "source": [
        "from google.colab import drive\r\n",
        "drive.mount('/content/gdrive')"
      ],
      "execution_count": 1,
      "outputs": [
        {
          "output_type": "stream",
          "text": [
            "Mounted at /content/gdrive\n"
          ],
          "name": "stdout"
        }
      ]
    },
    {
      "cell_type": "markdown",
      "metadata": {
        "id": "kIMff5xqwT-7"
      },
      "source": [
        "**Các thư viện cần thiết**"
      ]
    },
    {
      "cell_type": "code",
      "metadata": {
        "id": "X44sdVfnTnS2"
      },
      "source": [
        "import numpy as np\r\n",
        "import matplotlib.pyplot as plt\r\n",
        "from keras.models import Sequential\r\n",
        "from keras.layers import Dense, Dropout, Activation, Flatten\r\n",
        "from keras.layers import Conv2D, MaxPooling2D\r\n",
        "from keras.utils import np_utils\r\n",
        "from keras.datasets import mnist"
      ],
      "execution_count": 40,
      "outputs": []
    },
    {
      "cell_type": "markdown",
      "metadata": {
        "id": "Yo9icOnr6DUb"
      },
      "source": [
        "**Load MNIST dataset**"
      ]
    },
    {
      "cell_type": "code",
      "metadata": {
        "colab": {
          "base_uri": "https://localhost:8080/"
        },
        "id": "WfYhQlhBTnki",
        "outputId": "c5d8641b-00bb-45b8-b2d9-aabcb32f0481"
      },
      "source": [
        "(X_train, y_train), (X_test, y_test) = mnist.load_data()\r\n",
        "X_val, y_val = X_train[50000:60000,:], y_train[50000:60000]\r\n",
        "X_train, y_train = X_train[:50000,:], y_train[:50000]\r\n",
        "print(X_train.shape)"
      ],
      "execution_count": 41,
      "outputs": [
        {
          "output_type": "stream",
          "text": [
            "(50000, 28, 28)\n"
          ],
          "name": "stdout"
        }
      ]
    },
    {
      "cell_type": "markdown",
      "metadata": {
        "id": "JLd6pTia7dP1"
      },
      "source": [
        "**Reshape lại dữ liệu cho đúng kích thước mà keras yêu cầu**"
      ]
    },
    {
      "cell_type": "code",
      "metadata": {
        "colab": {
          "base_uri": "https://localhost:8080/"
        },
        "id": "NqCsZ64UTnm1",
        "outputId": "ef5ded63-8105-4481-d950-0fdc09b8d32d"
      },
      "source": [
        "X_train = X_train.reshape(X_train.shape[0], 28, 28, 1)\r\n",
        "X_val = X_val.reshape(X_val.shape[0], 28, 28, 1)\r\n",
        "X_test = X_test.reshape(X_test.shape[0], 28, 28, 1)\r\n",
        "print(X_train.shape)"
      ],
      "execution_count": 42,
      "outputs": [
        {
          "output_type": "stream",
          "text": [
            "(50000, 28, 28, 1)\n"
          ],
          "name": "stdout"
        }
      ]
    },
    {
      "cell_type": "markdown",
      "metadata": {
        "id": "gNBQhsUY8UHl"
      },
      "source": [
        "**One hot encoding label (Y)**"
      ]
    },
    {
      "cell_type": "code",
      "metadata": {
        "colab": {
          "base_uri": "https://localhost:8080/"
        },
        "id": "iDvwRowh7fn1",
        "outputId": "9a247129-daef-4a18-c923-6062197fb3ef"
      },
      "source": [
        "Y_train = np_utils.to_categorical(y_train, num_classes=10)\r\n",
        "Y_val = np_utils.to_categorical(y_val, num_classes=10)\r\n",
        "Y_test = np_utils.to_categorical(y_test, num_classes=10)\r\n",
        "print('Dữ liệu y ban đầu ', y_train[0])\r\n",
        "print('Dữ liệu y sau one-hot encoding ',Y_train[0])"
      ],
      "execution_count": 43,
      "outputs": [
        {
          "output_type": "stream",
          "text": [
            "Dữ liệu y ban đầu  5\n",
            "Dữ liệu y sau one-hot encoding  [0. 0. 0. 0. 0. 1. 0. 0. 0. 0.]\n"
          ],
          "name": "stdout"
        }
      ]
    },
    {
      "cell_type": "markdown",
      "metadata": {
        "id": "XOhNZT4JOpVX"
      },
      "source": [
        "**Định nghĩa model**"
      ]
    },
    {
      "cell_type": "code",
      "metadata": {
        "id": "2NK9S5KhTnpX"
      },
      "source": [
        "model = Sequential()"
      ],
      "execution_count": 44,
      "outputs": []
    },
    {
      "cell_type": "code",
      "metadata": {
        "id": "-AhVuUk5Tnr9"
      },
      "source": [
        "# Thêm Convolutional layer với 32 filter, kích thước filter 3*3\r\n",
        "# Dùng hàm sigmoid làm activation và chỉ rõ input_shape cho layer đầu tiên\r\n",
        "model.add(Conv2D(32, (3, 3), activation='sigmoid', input_shape=(28,28,1)))"
      ],
      "execution_count": 45,
      "outputs": []
    },
    {
      "cell_type": "code",
      "metadata": {
        "id": "25D5-83ITnuz"
      },
      "source": [
        "# Thêm Convolutional layer\r\n",
        "model.add(Conv2D(32, (3, 3), activation='sigmoid'))"
      ],
      "execution_count": 46,
      "outputs": []
    },
    {
      "cell_type": "code",
      "metadata": {
        "id": "Eb6Mx9emTnxr"
      },
      "source": [
        "# Thêm Max pooling layer\r\n",
        "model.add(MaxPooling2D(pool_size=(2,2)))"
      ],
      "execution_count": 47,
      "outputs": []
    },
    {
      "cell_type": "code",
      "metadata": {
        "id": "s-gABM5fTn0d"
      },
      "source": [
        "# Flatten layer chuyển từ tensor sang vector\r\n",
        "model.add(Flatten())"
      ],
      "execution_count": 48,
      "outputs": []
    },
    {
      "cell_type": "code",
      "metadata": {
        "id": "Jl2qwMfmTn3X"
      },
      "source": [
        "# Thêm Fully Connected layer với 128 nodes và dùng hàm sigmoid\r\n",
        "model.add(Dense(128, activation='sigmoid'))"
      ],
      "execution_count": 49,
      "outputs": []
    },
    {
      "cell_type": "code",
      "metadata": {
        "id": "PBsKrZ2sTn6i"
      },
      "source": [
        "# Output layer với 10 node và dùng softmax function để chuyển sang xác suất.\r\n",
        "model.add(Dense(10, activation='softmax'))"
      ],
      "execution_count": 50,
      "outputs": []
    },
    {
      "cell_type": "markdown",
      "metadata": {
        "id": "Ajrs2psno19S"
      },
      "source": [
        "**Compile model, chỉ rõ hàm loss_function nào được sử dụng, phương thức dùng để tối ưu hàm loss function**"
      ]
    },
    {
      "cell_type": "code",
      "metadata": {
        "id": "hSzYj1fiYFO8"
      },
      "source": [
        "model.compile(loss='categorical_crossentropy', \r\n",
        "              optimizer='adam', \r\n",
        "              metrics=['accuracy'])"
      ],
      "execution_count": 51,
      "outputs": []
    },
    {
      "cell_type": "markdown",
      "metadata": {
        "id": "0C8AUNe12wDy"
      },
      "source": [
        "**Thực hiện train model với data**"
      ]
    },
    {
      "cell_type": "code",
      "metadata": {
        "colab": {
          "base_uri": "https://localhost:8080/"
        },
        "id": "-COnkIC7YHOz",
        "outputId": "4f789932-b966-425b-ac39-f9e9b199810e"
      },
      "source": [
        "H = model.fit(X_train, Y_train, validation_data=(X_val, Y_val),\r\n",
        "              batch_size=32, epochs=10, verbose=2)"
      ],
      "execution_count": 52,
      "outputs": [
        {
          "output_type": "stream",
          "text": [
            "Epoch 1/10\n",
            "1563/1563 - 7s - loss: 0.3103 - accuracy: 0.9118 - val_loss: 0.0711 - val_accuracy: 0.9805\n",
            "Epoch 2/10\n",
            "1563/1563 - 7s - loss: 0.0583 - accuracy: 0.9832 - val_loss: 0.0516 - val_accuracy: 0.9856\n",
            "Epoch 3/10\n",
            "1563/1563 - 7s - loss: 0.0365 - accuracy: 0.9894 - val_loss: 0.0437 - val_accuracy: 0.9875\n",
            "Epoch 4/10\n",
            "1563/1563 - 7s - loss: 0.0235 - accuracy: 0.9935 - val_loss: 0.0453 - val_accuracy: 0.9863\n",
            "Epoch 5/10\n",
            "1563/1563 - 7s - loss: 0.0155 - accuracy: 0.9958 - val_loss: 0.0404 - val_accuracy: 0.9881\n",
            "Epoch 6/10\n",
            "1563/1563 - 6s - loss: 0.0104 - accuracy: 0.9976 - val_loss: 0.0407 - val_accuracy: 0.9889\n",
            "Epoch 7/10\n",
            "1563/1563 - 7s - loss: 0.0071 - accuracy: 0.9982 - val_loss: 0.0409 - val_accuracy: 0.9883\n",
            "Epoch 8/10\n",
            "1563/1563 - 6s - loss: 0.0053 - accuracy: 0.9988 - val_loss: 0.0409 - val_accuracy: 0.9881\n",
            "Epoch 9/10\n",
            "1563/1563 - 7s - loss: 0.0034 - accuracy: 0.9994 - val_loss: 0.0465 - val_accuracy: 0.9876\n",
            "Epoch 10/10\n",
            "1563/1563 - 7s - loss: 0.0033 - accuracy: 0.9992 - val_loss: 0.0437 - val_accuracy: 0.9899\n"
          ],
          "name": "stdout"
        }
      ]
    },
    {
      "cell_type": "markdown",
      "metadata": {
        "id": "Rar_BxLl3WvZ"
      },
      "source": [
        "**Vẽ đồ thị loss, accuracy của training set và validation set**"
      ]
    },
    {
      "cell_type": "code",
      "metadata": {
        "colab": {
          "base_uri": "https://localhost:8080/",
          "height": 312
        },
        "id": "6wL10ytmYHRG",
        "outputId": "c144431f-817f-49ee-aa76-f1272e245cc5"
      },
      "source": [
        "fig = plt.figure()\r\n",
        "numOfEpoch = 10\r\n",
        "plt.plot(np.arange(0, numOfEpoch), H.history['loss'], label='training loss')\r\n",
        "plt.plot(np.arange(0, numOfEpoch), H.history['val_loss'], label='validation loss')\r\n",
        "plt.plot(np.arange(0, numOfEpoch), H.history['accuracy'], label='accuracy')\r\n",
        "plt.plot(np.arange(0, numOfEpoch), H.history['val_accuracy'], label='validation accuracy')\r\n",
        "plt.title('Accuracy and Loss')\r\n",
        "plt.xlabel('Epoch')\r\n",
        "plt.ylabel('Loss|Accuracy')\r\n",
        "plt.legend()"
      ],
      "execution_count": 53,
      "outputs": [
        {
          "output_type": "execute_result",
          "data": {
            "text/plain": [
              "<matplotlib.legend.Legend at 0x7f40aad976a0>"
            ]
          },
          "metadata": {
            "tags": []
          },
          "execution_count": 53
        },
        {
          "output_type": "display_data",
          "data": {
            "image/png": "[encoded data removed]",
            "text/plain": [
              "<Figure size 432x288 with 1 Axes>"
            ]
          },
          "metadata": {
            "tags": [],
            "needs_background": "light"
          }
        }
      ]
    },
    {
      "cell_type": "markdown",
      "metadata": {
        "id": "34UtowUI5KPh"
      },
      "source": [
        "**Đánh giá model với dữ liệu test set**"
      ]
    },
    {
      "cell_type": "code",
      "metadata": {
        "colab": {
          "base_uri": "https://localhost:8080/"
        },
        "id": "-iZtpOngYHTu",
        "outputId": "7d5da516-66fe-4553-d426-b67e45eaf805"
      },
      "source": [
        "score = model.evaluate(X_test, Y_test, verbose=2)\r\n",
        "print(score)"
      ],
      "execution_count": 54,
      "outputs": [
        {
          "output_type": "stream",
          "text": [
            "313/313 - 1s - loss: 0.0331 - accuracy: 0.9906\n",
            "[0.03312807157635689, 0.9905999898910522]\n"
          ],
          "name": "stdout"
        }
      ]
    },
    {
      "cell_type": "markdown",
      "metadata": {
        "id": "GYEKTKAn5g83"
      },
      "source": [
        "**Dự đoán ảnh**"
      ]
    },
    {
      "cell_type": "code",
      "metadata": {
        "colab": {
          "base_uri": "https://localhost:8080/",
          "height": 282
        },
        "id": "PksZCs4HYHWb",
        "outputId": "442fba83-4ef1-4e21-aa5a-247c23bdd766"
      },
      "source": [
        "plt.imshow(X_test[61].reshape(28,28), cmap='gray')"
      ],
      "execution_count": 57,
      "outputs": [
        {
          "output_type": "execute_result",
          "data": {
            "text/plain": [
              "<matplotlib.image.AxesImage at 0x7f40a9c9fb00>"
            ]
          },
          "metadata": {
            "tags": []
          },
          "execution_count": 57
        },
        {
          "output_type": "display_data",
          "data": {
            "image/png": "[encoded data removed]",
            "text/plain": [
              "<Figure size 432x288 with 1 Axes>"
            ]
          },
          "metadata": {
            "tags": [],
            "needs_background": "light"
          }
        }
      ]
    },
    {
      "cell_type": "code",
      "metadata": {
        "colab": {
          "base_uri": "https://localhost:8080/"
        },
        "id": "POtFJF-6YHYb",
        "outputId": "83027562-4815-4bd2-b401-865a19567a0e"
      },
      "source": [
        "y_predict = model.predict(X_test[61].reshape(1,28,28,1))\r\n",
        "print('Giá trị dự đoán: ', np.argmax(y_predict))  # Để tìm CHỈ SỐ mà tại đó mảng 1 chiều đạt giá trị lớn nhất, ta dùng np.argmax"
      ],
      "execution_count": 58,
      "outputs": [
        {
          "output_type": "stream",
          "text": [
            "Giá trị dự đoán:  8\n"
          ],
          "name": "stdout"
        }
      ]
    },
    {
      "cell_type": "code",
      "metadata": {
        "id": "ZaKGCv2lYJOr"
      },
      "source": [
        ""
      ],
      "execution_count": 56,
      "outputs": []
    },
    {
      "cell_type": "code",
      "metadata": {
        "id": "4fNaELznYJRP"
      },
      "source": [
        ""
      ],
      "execution_count": 56,
      "outputs": []
    },
    {
      "cell_type": "code",
      "metadata": {
        "id": "F8rRMKOjYJTU"
      },
      "source": [
        ""
      ],
      "execution_count": 56,
      "outputs": []
    },
    {
      "cell_type": "code",
      "metadata": {
        "id": "PtSjnx69YJVQ"
      },
      "source": [
        ""
      ],
      "execution_count": 56,
      "outputs": []
    },
    {
      "cell_type": "code",
      "metadata": {
        "id": "px73aud-YJXw"
      },
      "source": [
        ""
      ],
      "execution_count": 56,
      "outputs": []
    },
    {
      "cell_type": "code",
      "metadata": {
        "id": "-lGata7xYJZ2"
      },
      "source": [
        ""
      ],
      "execution_count": 56,
      "outputs": []
    },
    {
      "cell_type": "code",
      "metadata": {
        "id": "RfNm-8u9YJcM"
      },
      "source": [
        ""
      ],
      "execution_count": 56,
      "outputs": []
    },
    {
      "cell_type": "code",
      "metadata": {
        "id": "S1NzkQcpYJeD"
      },
      "source": [
        ""
      ],
      "execution_count": 56,
      "outputs": []
    },
    {
      "cell_type": "code",
      "metadata": {
        "id": "8TosiNY9YJgU"
      },
      "source": [
        ""
      ],
      "execution_count": 56,
      "outputs": []
    },
    {
      "cell_type": "code",
      "metadata": {
        "id": "K_9GYcXsYJjq"
      },
      "source": [
        ""
      ],
      "execution_count": 56,
      "outputs": []
    },
    {
      "cell_type": "code",
      "metadata": {
        "id": "NnBsDoNGYJlL"
      },
      "source": [
        ""
      ],
      "execution_count": 56,
      "outputs": []
    },
    {
      "cell_type": "code",
      "metadata": {
        "id": "4luRVCS9YJnx"
      },
      "source": [
        ""
      ],
      "execution_count": 56,
      "outputs": []
    },
    {
      "cell_type": "code",
      "metadata": {
        "id": "sYorveENYJpb"
      },
      "source": [
        ""
      ],
      "execution_count": 56,
      "outputs": []
    },
    {
      "cell_type": "code",
      "metadata": {
        "id": "lvF3f_IYYJro"
      },
      "source": [
        ""
      ],
      "execution_count": 56,
      "outputs": []
    },
    {
      "cell_type": "code",
      "metadata": {
        "id": "vBzClnlIYJtp"
      },
      "source": [
        ""
      ],
      "execution_count": 56,
      "outputs": []
    },
    {
      "cell_type": "code",
      "metadata": {
        "id": "lVoaLPAdYJwL"
      },
      "source": [
        ""
      ],
      "execution_count": 56,
      "outputs": []
    }
  ]
}